{
 "cells": [
  {
   "cell_type": "code",
   "execution_count": 3,
   "metadata": {},
   "outputs": [
    {
     "name": "stdout",
     "output_type": "stream",
     "text": [
      "addition of a and b 8\n",
      "subtraction of a and b 2\n",
      "multiplication  of a and b 15\n",
      "division of a and b 1.6666666666666667\n",
      "modulus of a and b 2\n",
      "exponent of a and b 125\n",
      "floor division of a and b 1\n"
     ]
    }
   ],
   "source": [
    "#simple calculater\n",
    "a=5\n",
    "b=3\n",
    "print(\"addition of a and b\",a+b)\n",
    "print(\"subtraction of a and b\",a-b)\n",
    "print(\"multiplication  of a and b\",a*b)\n",
    "print(\"division of a and b\",a/b)\n",
    "print(\"modulus of a and b\",a%b)\n",
    "print(\"exponent of a and b\",a**b)\n",
    "print(\"floor division of a and b\",a//b)\n",
    "\n"
   ]
  },
  {
   "cell_type": "code",
   "execution_count": 5,
   "metadata": {},
   "outputs": [
    {
     "name": "stdout",
     "output_type": "stream",
     "text": [
      "enter the principal:100\n",
      "enter the number of years:5\n",
      "enter the rate of intrest:5\n",
      "25.0\n"
     ]
    }
   ],
   "source": [
    "# simple intrest\n",
    "p= float(input(\"enter the principal:\"))\n",
    "t= float(input(\"enter the number of years:\"))\n",
    "r= float(input(\"enter the rate of intrest:\"))\n",
    "SI=(p*t*r)/100\n",
    "print(SI)"
   ]
  },
  {
   "cell_type": "code",
   "execution_count": 6,
   "metadata": {},
   "outputs": [
    {
     "name": "stdout",
     "output_type": "stream",
     "text": [
      "enter the radius :5\n",
      "the area of a circle is 78.5\n"
     ]
    }
   ],
   "source": [
    "# area of a circle\n",
    "pi=3.14\n",
    "r=float(input(\"enter the radius :\"))\n",
    "A=pi*r*r\n",
    "print(\"the area of a circle is\",A)"
   ]
  },
  {
   "cell_type": "code",
   "execution_count": 8,
   "metadata": {},
   "outputs": [
    {
     "name": "stdout",
     "output_type": "stream",
     "text": [
      "enter the base of triangle:5\n",
      "enter the hight of triangle:4\n",
      "the area of triangle 10.0\n"
     ]
    }
   ],
   "source": [
    "#area of a triangle\n",
    "base=float(input(\"enter the base of triangle:\"))\n",
    "hight=float(input(\"enter the hight of triangle:\"))\n",
    "A=(base*hight)/2\n",
    "print(\"the area of triangle\",A)"
   ]
  },
  {
   "cell_type": "code",
   "execution_count": 9,
   "metadata": {},
   "outputs": [
    {
     "name": "stdout",
     "output_type": "stream",
     "text": [
      "enter the celcius0\n",
      "the convertion of celcius to faranheat is: 32.0\n"
     ]
    }
   ],
   "source": [
    "#celcius to faranheat\n",
    "c=float(input(\"enter the celcius\"))\n",
    "A=((c*1.8)+32)\n",
    "print(\"the convertion of celcius to faranheat is:\",A)\n"
   ]
  },
  {
   "cell_type": "code",
   "execution_count": 10,
   "metadata": {},
   "outputs": [
    {
     "name": "stdout",
     "output_type": "stream",
     "text": [
      "enter the width :5\n",
      "enter the length :3\n",
      "the area of a rectangle is : 15.0\n"
     ]
    }
   ],
   "source": [
    "# area of a rectangle\n",
    "w=float(input(\"enter the width :\"))\n",
    "l=float(input(\"enter the length :\"))\n",
    "A=w*l\n",
    "print(\"the area of a rectangle is :\",A)"
   ]
  },
  {
   "cell_type": "code",
   "execution_count": 11,
   "metadata": {},
   "outputs": [
    {
     "name": "stdout",
     "output_type": "stream",
     "text": [
      "enter the side :2\n",
      "the perimeter of a square is : 8.0\n"
     ]
    }
   ],
   "source": [
    "a=float(input(\"enter the side :\"))\n",
    "P=4*a\n",
    "print(\"the perimeter of a square is :\",P)"
   ]
  },
  {
   "cell_type": "code",
   "execution_count": 12,
   "metadata": {},
   "outputs": [
    {
     "name": "stdout",
     "output_type": "stream",
     "text": [
      "enter the radius :4\n",
      "the circumfarence of a circle is : 25.12\n"
     ]
    }
   ],
   "source": [
    "# circumfarence of a circle\n",
    "pi=3.14\n",
    "r=float(input(\"enter the radius :\"))\n",
    "C=2*pi*r\n",
    "print(\"the circumfarence of a circle is :\",C)"
   ]
  },
  {
   "cell_type": "code",
   "execution_count": 14,
   "metadata": {},
   "outputs": [
    {
     "name": "stdout",
     "output_type": "stream",
     "text": [
      "enter the number :2\n",
      "enter the number :3\n",
      "print a and b 2 3\n",
      "print a and b 3 2\n"
     ]
    }
   ],
   "source": [
    "# swapping of two numbers\n",
    "a=int(input(\"enter the number :\"))\n",
    "b=int(input(\"enter the number :\"))\n",
    "print(\"print a and b\",a,b)\n",
    "temp=a\n",
    "a=b\n",
    "b=temp\n",
    "print(\"print a and b\",a,b)\n",
    "\n"
   ]
  },
  {
   "cell_type": "code",
   "execution_count": null,
   "metadata": {},
   "outputs": [],
   "source": []
  }
 ],
 "metadata": {
  "kernelspec": {
   "display_name": "Python 3",
   "language": "python",
   "name": "python3"
  },
  "language_info": {
   "codemirror_mode": {
    "name": "ipython",
    "version": 3
   },
   "file_extension": ".py",
   "mimetype": "text/x-python",
   "name": "python",
   "nbconvert_exporter": "python",
   "pygments_lexer": "ipython3",
   "version": "3.7.6"
  }
 },
 "nbformat": 4,
 "nbformat_minor": 4
}
